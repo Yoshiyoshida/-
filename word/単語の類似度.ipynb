{
 "cells": [
  {
   "cell_type": "markdown",
   "metadata": {},
   "source": [
    "# 文字をカウントする関数を定義"
   ]
  },
  {
   "cell_type": "code",
   "execution_count": 1,
   "metadata": {},
   "outputs": [],
   "source": [
    "import numpy as np"
   ]
  },
  {
   "cell_type": "code",
   "execution_count": 2,
   "metadata": {},
   "outputs": [],
   "source": [
    "word_to_id = {} \n",
    "id_to_word = {}\n",
    "\n",
    "def preprocess(text):\n",
    "        text = text.lower()\n",
    "        text  = text.replace('.', ' .')\n",
    "        text = text.replace(',', ' ,')\n",
    "        words = text.split(\" \")\n",
    "        \n",
    "        for word in words:\n",
    "            if word  not in word_to_id:\n",
    "                num = len(word_to_id)\n",
    "                word_to_id[word] = num\n",
    "                id_to_word[num] = word\n",
    "        corpus = np.array([i for i in id_to_word.keys()])\n",
    "        return corpus, words, word_to_id, id_to_word"
   ]
  },
  {
   "cell_type": "markdown",
   "metadata": {},
   "source": [
    "# マトリックスの生成"
   ]
  },
  {
   "cell_type": "code",
   "execution_count": 3,
   "metadata": {},
   "outputs": [],
   "source": [
    "def create_co_matrix(corpus, windowsize=1):\n",
    "    co_size = len(corpus)\n",
    "    co_matrix = np.zeros((co_size, co_size), dtype=np.int32)\n",
    "    \n",
    "    for idx, word_id in enumerate(corpus):\n",
    "        for i in range(1, windowsize + 1):\n",
    "            left_idx = idx - i\n",
    "            right_idx = idx + i \n",
    "            \n",
    "            if left_idx >=0:\n",
    "                left_idx = corpus[left_idx]\n",
    "                co_matrix[word_id, left_idx] +=1\n",
    "            \n",
    "            if right_idx < co_size:\n",
    "                right_idx = corpus[right_idx]\n",
    "                co_matrix[word_id, right_idx] += 1\n",
    "    return co_matrix"
   ]
  },
  {
   "cell_type": "code",
   "execution_count": null,
   "metadata": {},
   "outputs": [],
   "source": []
  },
  {
   "cell_type": "code",
   "execution_count": 4,
   "metadata": {
    "code_folding": []
   },
   "outputs": [],
   "source": [
    "# 自作\n",
    "\n",
    "def create_co_matrix(text, windowsize=1):\n",
    "    corpus, words, word_to_id, id_to_word = preprocess(text)\n",
    "    co_size = len(corpus)\n",
    "    co_matrix = np.zeros((co_size, co_size), dtype=np.int32)\n",
    "    \n",
    "    for idn, word in enumerate(words):\n",
    "        for i in range(1, windowsize + 1):\n",
    "            left_idx = idn - i\n",
    "            right_idx = idn + i \n",
    "            \n",
    "            if left_idx >=0:\n",
    "                left_idx = word_to_id[words[left_idx]]\n",
    "                co_matrix[word_to_id[word], left_idx] +=1\n",
    "            \n",
    "            if right_idx < co_size:\n",
    "                right_idx = word_to_id[words[right_idx]]\n",
    "                co_matrix[word_to_id[word], right_idx] +=1\n",
    "    return co_matrix"
   ]
  },
  {
   "cell_type": "code",
   "execution_count": 5,
   "metadata": {},
   "outputs": [],
   "source": [
    "sample = \"Today, most people buy tofu at supermarkets, but the significance of tofu in the Japanese diet has not changed a bit.\"\n",
    "a = create_co_matrix(sample)"
   ]
  },
  {
   "cell_type": "markdown",
   "metadata": {},
   "source": [
    "# 類似度を計算"
   ]
  },
  {
   "cell_type": "code",
   "execution_count": 6,
   "metadata": {},
   "outputs": [],
   "source": [
    "def coss_similarity(x, y, eps=1e-8):\n",
    "    nx = x/np.sqrt(np.sum(x**2) + eps)\n",
    "    ny = y/np.sqrt(np.sum(y**2) + eps)\n",
    "    return np.dot(nx, ny)"
   ]
  },
  {
   "cell_type": "code",
   "execution_count": null,
   "metadata": {},
   "outputs": [],
   "source": []
  },
  {
   "cell_type": "markdown",
   "metadata": {},
   "source": [
    "# 類似度ランキングを表示"
   ]
  },
  {
   "cell_type": "code",
   "execution_count": 7,
   "metadata": {},
   "outputs": [],
   "source": [
    "def most_similar(query, word_to_id, id_to_word, word_matrix, top=5):\n",
    "    \n",
    "    if query not in word_to_id:\n",
    "        return print('%s is not found' % query)\n",
    "    \n",
    "    query_id = word_to_id[query]\n",
    "    query_vec = word_matrix[query_id]\n",
    "    \n",
    "    vocab_size = len(id_to_word)\n",
    "    similality = np.zeros(vocab_size)#答えのベクトルの配列\n",
    "    \n",
    "    for i in range(vocab_size):\n",
    "        similality[i] = coss_similarity(word_matrix[i], query_vec)\n",
    "        \n",
    "    count = 0\n",
    "    \n",
    "    for i in np.argsort(-1 * similality):#sort　して配列の番号だけを返す\n",
    "        if i == query_id:\n",
    "            continue\n",
    "        print('{}:{}'.format(id_to_word[i], similality[i]))\n",
    "        count += 1\n",
    "        \n",
    "        if count == top:\n",
    "            break\n",
    "        "
   ]
  },
  {
   "cell_type": "code",
   "execution_count": 8,
   "metadata": {},
   "outputs": [
    {
     "name": "stdout",
     "output_type": "stream",
     "text": [
      "significance:0.35355338926744856\n",
      "people:0.35355338926744856\n",
      "supermarkets:0.35355338926744856\n",
      "the:0.24999999937500006\n",
      "a:0.0\n"
     ]
    }
   ],
   "source": [
    "text = \"Today, most people buy tofu at supermarkets, but the significance of tofu in the Japanese diet has not changed a bit.\"\n",
    "a,b,c,d = preprocess(text) \n",
    "matrix = create_co_matrix(text)\n",
    "most_similar('tofu', c,d,matrix)"
   ]
  },
  {
   "cell_type": "code",
   "execution_count": null,
   "metadata": {},
   "outputs": [],
   "source": []
  }
 ],
 "metadata": {
  "kernelspec": {
   "display_name": "Python 3",
   "language": "python",
   "name": "python3"
  },
  "language_info": {
   "codemirror_mode": {
    "name": "ipython",
    "version": 3
   },
   "file_extension": ".py",
   "mimetype": "text/x-python",
   "name": "python",
   "nbconvert_exporter": "python",
   "pygments_lexer": "ipython3",
   "version": "3.6.5"
  },
  "latex_envs": {
   "LaTeX_envs_menu_present": true,
   "autoclose": false,
   "autocomplete": true,
   "bibliofile": "biblio.bib",
   "cite_by": "apalike",
   "current_citInitial": 1,
   "eqLabelWithNumbers": true,
   "eqNumInitial": 1,
   "hotkeys": {
    "equation": "Ctrl-E",
    "itemize": "Ctrl-I"
   },
   "labels_anchors": false,
   "latex_user_defs": false,
   "report_style_numbering": false,
   "user_envs_cfg": false
  },
  "toc": {
   "base_numbering": 1,
   "nav_menu": {},
   "number_sections": true,
   "sideBar": true,
   "skip_h1_title": false,
   "title_cell": "Table of Contents",
   "title_sidebar": "Contents",
   "toc_cell": false,
   "toc_position": {},
   "toc_section_display": true,
   "toc_window_display": false
  }
 },
 "nbformat": 4,
 "nbformat_minor": 2
}
